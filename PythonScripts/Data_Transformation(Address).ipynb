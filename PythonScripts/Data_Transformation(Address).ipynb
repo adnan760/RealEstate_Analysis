{
 "cells": [
  {
   "cell_type": "markdown",
   "metadata": {},
   "source": [
    "## Data Transformation of Location Column"
   ]
  },
  {
   "cell_type": "code",
   "execution_count": 27,
   "metadata": {},
   "outputs": [],
   "source": [
    "# Importing required modules\n",
    "import os\n",
    "import pandas as pd\n",
    "import numpy as np\n",
    "from geopy.geocoders import Nominatim\n",
    "from geopy.point import Point\n",
    "from snowflake.sqlalchemy import URL\n",
    "from sqlalchemy import create_engine\n",
    "from snowflake.connector.pandas_tools import pd_writer\n",
    "import dask.dataframe as dd\n",
    "from dotenv import load_dotenv"
   ]
  },
  {
   "cell_type": "code",
   "execution_count": 18,
   "metadata": {},
   "outputs": [
    {
     "data": {
      "text/plain": [
       "True"
      ]
     },
     "execution_count": 18,
     "metadata": {},
     "output_type": "execute_result"
    }
   ],
   "source": [
    "# Loading the method to access environment variables from .env file\n",
    "# Create the .env file and then initialize variables that holds the following:\n",
    "# Snowflake account name, Snowfalke username, Snowflake password, google account email\n",
    "load_dotenv()"
   ]
  },
  {
   "cell_type": "code",
   "execution_count": 23,
   "metadata": {},
   "outputs": [],
   "source": [
    "geolocator = Nominatim(user_agent=\"user25\") #Name for session"
   ]
  },
  {
   "cell_type": "code",
   "execution_count": 20,
   "metadata": {},
   "outputs": [],
   "source": [
    "# Configuration for connecting to snowflake database\n",
    "engine = create_engine(URL(\n",
    "                    account = os.getenv('snowflake_account_name'),\n",
    "                    user = os.getenv('snowflake_user_name'),\n",
    "                    password = os.getenv('snowflake_password'),\n",
    "                    database = 'realestate',\n",
    "                    schema = 'public',\n",
    "                    warehouse = 'realestate_wh'))"
   ]
  },
  {
   "cell_type": "code",
   "execution_count": 30,
   "metadata": {},
   "outputs": [],
   "source": [
    "# Retriving the Address based on the coordinates using geopy package and saving the results.\n",
    "with engine.connect() as conn:\n",
    "    try:\n",
    "        query = \"\"\" SELECT RN, concat(latitude,',',longitude) as LOCATION\n",
    "                    FROM (SELECT RN\n",
    "                            , SUBSTR(location, REGEXP_INSTR(location,' ',1,4)+1) AS LATITUDE \n",
    "                            , SUBSTR(location, REGEXP_INSTR(location,' ',1,1)+1, (REGEXP_INSTR(location,' ',1,2) - REGEXP_INSTR(location,' ',1,1) - 1) ) AS LONGITUDE\n",
    "                        FROM otodom_data_flatten -- WHERE rn between 1 and 100 [This adjacent statement is for part by part parsing, change it acccordingly]\n",
    "                        ORDER BY rn  ) \"\"\" \n",
    "        \n",
    "        df = pd.read_sql(query,conn)\n",
    "                      \n",
    "        df.columns = map(lambda x: str(x).upper(), df.columns)\n",
    "        \n",
    "        ddf = dd.from_pandas(df,npartitions=10)\n",
    "        print(ddf.head(5,npartitions=-1))\n",
    "\n",
    "        ddf['ADDRESS'] = ddf['LOCATION'].apply(lambda x: geolocator.reverse(x).raw['address'],meta=(None, 'str'))\n",
    "\n",
    "        pandas_df = ddf.compute()\n",
    "        print(pandas_df.head())\n",
    "        \n",
    "        pandas_df.to_csv('Otodom_Data_Transformation_Address.csv',index=False)\n",
    "        \n",
    "        # For directly inserting the transformed data in snowflake\n",
    "        #pandas_df.to_sql('otodom_data_transformed_address', con=engine, if_exists='append', index=False, chunksize=16000, method=pd_writer)\n",
    "    except Exception as e:\n",
    "        print('Error',e)\n",
    "    finally:\n",
    "        conn.close()\n",
    "engine.dispose()"
   ]
  }
 ],
 "metadata": {
  "kernelspec": {
   "display_name": "RealEstateEnv",
   "language": "python",
   "name": "python3"
  },
  "language_info": {
   "codemirror_mode": {
    "name": "ipython",
    "version": 3
   },
   "file_extension": ".py",
   "mimetype": "text/x-python",
   "name": "python",
   "nbconvert_exporter": "python",
   "pygments_lexer": "ipython3",
   "version": "3.11.5"
  },
  "orig_nbformat": 4
 },
 "nbformat": 4,
 "nbformat_minor": 2
}
